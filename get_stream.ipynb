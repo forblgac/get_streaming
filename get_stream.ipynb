{
 "cells": [
  {
   "cell_type": "code",
   "execution_count": 2,
   "id": "63c74f01",
   "metadata": {},
   "outputs": [],
   "source": [
    "from bs4 import BeautifulSoup\n",
    "import pandas as pd\n",
    "import requests"
   ]
  },
  {
   "cell_type": "code",
   "execution_count": 85,
   "id": "440c2f70",
   "metadata": {},
   "outputs": [],
   "source": [
    "url = 'https://wikiwiki.jp/774inc/%E9%85%8D%E4%BF%A1/2021-05-24'\n",
    "site = 774\n",
    "\n",
    "resp = requests.get(url)\n",
    "soup = BeautifulSoup(resp.text, 'lxml')\n",
    "# selector = 'h3.date_weekday'\n",
    "selector = 'div#body'\n",
    "lis = soup.select(selector)[0].select('ul.list1 > li')\n",
    "count = 0\n",
    "stream_data = pd.DataFrame(index=['time', 'member', 'title', 'url'])\n",
    "for li in lis:\n",
    "    time = li.text.split()[0]\n",
    "    member = li.text.split()[1].split('：')[0]\n",
    "    title = li.select('a')[0].text\n",
    "    url = li.select('a')[0]['href']\n",
    "    stream_data[count] = [time, member, title, url]\n",
    "    count += 1"
   ]
  },
  {
   "cell_type": "code",
   "execution_count": 86,
   "id": "17b0cdb2",
   "metadata": {},
   "outputs": [
    {
     "data": {
      "text/html": [
       "<div>\n",
       "<style scoped>\n",
       "    .dataframe tbody tr th:only-of-type {\n",
       "        vertical-align: middle;\n",
       "    }\n",
       "\n",
       "    .dataframe tbody tr th {\n",
       "        vertical-align: top;\n",
       "    }\n",
       "\n",
       "    .dataframe thead th {\n",
       "        text-align: right;\n",
       "    }\n",
       "</style>\n",
       "<table border=\"1\" class=\"dataframe\">\n",
       "  <thead>\n",
       "    <tr style=\"text-align: right;\">\n",
       "      <th></th>\n",
       "      <th>0</th>\n",
       "      <th>1</th>\n",
       "      <th>2</th>\n",
       "      <th>3</th>\n",
       "      <th>4</th>\n",
       "      <th>5</th>\n",
       "      <th>6</th>\n",
       "      <th>7</th>\n",
       "      <th>8</th>\n",
       "      <th>9</th>\n",
       "      <th>10</th>\n",
       "      <th>11</th>\n",
       "      <th>12</th>\n",
       "      <th>13</th>\n",
       "      <th>14</th>\n",
       "      <th>15</th>\n",
       "      <th>16</th>\n",
       "    </tr>\n",
       "  </thead>\n",
       "  <tbody>\n",
       "    <tr>\n",
       "      <th>time</th>\n",
       "      <td>0時00分</td>\n",
       "      <td>6時30分</td>\n",
       "      <td>7時00分</td>\n",
       "      <td>12時00分</td>\n",
       "      <td>13時00分</td>\n",
       "      <td>18時00分</td>\n",
       "      <td>18時00分</td>\n",
       "      <td>19時00分</td>\n",
       "      <td>19時00分</td>\n",
       "      <td>19時00分</td>\n",
       "      <td>19時30分</td>\n",
       "      <td>21時00分</td>\n",
       "      <td>21時00分</td>\n",
       "      <td>21時00分</td>\n",
       "      <td>21時00分</td>\n",
       "      <td>23時00分</td>\n",
       "      <td>23時00分</td>\n",
       "    </tr>\n",
       "    <tr>\n",
       "      <th>member</th>\n",
       "      <td>羽柴なつみ</td>\n",
       "      <td>虎城アンナ</td>\n",
       "      <td>西園寺メアリ</td>\n",
       "      <td>湖南みあ</td>\n",
       "      <td>島村シャルロット、</td>\n",
       "      <td>堰代ミコ</td>\n",
       "      <td>季咲あんこ</td>\n",
       "      <td>飛良ひかり</td>\n",
       "      <td>小森めと</td>\n",
       "      <td>龍ヶ崎リン</td>\n",
       "      <td>白宮みみ</td>\n",
       "      <td>日ノ隈らん</td>\n",
       "      <td>風見くく</td>\n",
       "      <td>西園寺メアリ</td>\n",
       "      <td>獅子王クリス</td>\n",
       "      <td>因幡はねる</td>\n",
       "      <td>龍ヶ崎リン</td>\n",
       "    </tr>\n",
       "    <tr>\n",
       "      <th>title</th>\n",
       "      <td>私は今、どこにいるでしょーうか！【羽柴なつみ / あにまーれ】</td>\n",
       "      <td>【寝起き朝枠】おめでとうございます。今日は≪アナタ≫さんの誕生日です。（ガッキーヴォイスで）...</td>\n",
       "      <td>【朝活】朝活を楽しむ！いってらっしゃいラジオ【西園寺メアリ / ハニスト】</td>\n",
       "      <td>【FF10】#02 酒カスが超名作を酔いどれ実況プレイ【湖南みあ / あにまーれ】</td>\n",
       "      <td>【お昼ご飯コラボ】月に一度の豪華なお昼一緒に食べませんか？？　#にこぷい【島村シャルロット ...</td>\n",
       "      <td>【メンバー限定】うわぁあ！？急に歌うなあッ！！【堰代ミコ / ハニスト】</td>\n",
       "      <td>【Knockout City】ドッジボールの世界ついにきたああああ！【 季咲あんこ / ブイ...</td>\n",
       "      <td>【ちゅーっと】なにをしたらヒーローっぽくなるのかを考える！【 飛良ひかり / あにまーれ 】</td>\n",
       "      <td>【バイオ8】バイオハザード ヴィレッジ 初見ぷれぃ②【小森めと / ブイアパ】</td>\n",
       "      <td>すしたべたい×50000【龍ヶ崎リン / シュガリリ】</td>\n",
       "      <td>【VALORANT】ランク3日目【白宮みみ / あにまーれ】</td>\n",
       "      <td>【世界のアソビ大全51】らんたやんVSめあたむ【日ノ隈らん / あにまーれ】</td>\n",
       "      <td>【No Archive】今日は家賃分くらい散財した気がします。【風見くく / あにまーれ】</td>\n",
       "      <td>【ミートピア】774incの子達と冒険旅！part2！Miitopia【西園寺メアリ / ハ...</td>\n",
       "      <td>【Miitopia】正直キャラメイクやりたくて買った。【獅子王クリス/シュガーリリック】</td>\n",
       "      <td>【#漫画プレゼン同好会】社築に読ませたい漫画プレゼン大会【社築/緑仙/因幡はねる/伊東ライフ...</td>\n",
       "      <td>【バイオハザード ヴィレッジ】#4 イケメンおじさんとなかよくなる / ハイゼンベルク工場編...</td>\n",
       "    </tr>\n",
       "    <tr>\n",
       "      <th>url</th>\n",
       "      <td>https://youtu.be/ISTCOZpw7oI</td>\n",
       "      <td>https://youtu.be/hEeZoFbJYQs</td>\n",
       "      <td>https://youtu.be/Uz1SGfvkoHY</td>\n",
       "      <td>https://youtu.be/WJP8GHaEmfU</td>\n",
       "      <td>https://youtu.be/_quZsw9b7Hg</td>\n",
       "      <td>https://youtu.be/o0h0yniiwrI</td>\n",
       "      <td>https://youtu.be/JTnWEYuvpMg</td>\n",
       "      <td>https://youtu.be/66V9TgVaGAo</td>\n",
       "      <td>https://youtu.be/oRbwABZJNeE</td>\n",
       "      <td>https://youtu.be/HXJhd2Lg5A4</td>\n",
       "      <td>https://youtu.be/lk6sPmmXlFI</td>\n",
       "      <td>https://youtu.be/c14-32EqcoA</td>\n",
       "      <td>https://youtu.be/0KexSQSHG08</td>\n",
       "      <td>https://youtu.be/jxk7gNngJkc</td>\n",
       "      <td>https://youtu.be/dKpu0otWTTg</td>\n",
       "      <td>https://youtu.be/cxaf0nvz2LA</td>\n",
       "      <td>https://youtu.be/j2SQj_jm1CI</td>\n",
       "    </tr>\n",
       "  </tbody>\n",
       "</table>\n",
       "</div>"
      ],
      "text/plain": [
       "                                     0   \\\n",
       "time                              0時00分   \n",
       "member                            羽柴なつみ   \n",
       "title   私は今、どこにいるでしょーうか！【羽柴なつみ / あにまーれ】   \n",
       "url        https://youtu.be/ISTCOZpw7oI   \n",
       "\n",
       "                                                       1   \\\n",
       "time                                                6時30分   \n",
       "member                                              虎城アンナ   \n",
       "title   【寝起き朝枠】おめでとうございます。今日は≪アナタ≫さんの誕生日です。（ガッキーヴォイスで）...   \n",
       "url                          https://youtu.be/hEeZoFbJYQs   \n",
       "\n",
       "                                           2   \\\n",
       "time                                    7時00分   \n",
       "member                                 西園寺メアリ   \n",
       "title   【朝活】朝活を楽しむ！いってらっしゃいラジオ【西園寺メアリ / ハニスト】   \n",
       "url              https://youtu.be/Uz1SGfvkoHY   \n",
       "\n",
       "                                               3   \\\n",
       "time                                       12時00分   \n",
       "member                                       湖南みあ   \n",
       "title   【FF10】#02 酒カスが超名作を酔いどれ実況プレイ【湖南みあ / あにまーれ】   \n",
       "url                  https://youtu.be/WJP8GHaEmfU   \n",
       "\n",
       "                                                       4   \\\n",
       "time                                               13時00分   \n",
       "member                                          島村シャルロット、   \n",
       "title   【お昼ご飯コラボ】月に一度の豪華なお昼一緒に食べませんか？？　#にこぷい【島村シャルロット ...   \n",
       "url                          https://youtu.be/_quZsw9b7Hg   \n",
       "\n",
       "                                          5   \\\n",
       "time                                  18時00分   \n",
       "member                                  堰代ミコ   \n",
       "title   【メンバー限定】うわぁあ！？急に歌うなあッ！！【堰代ミコ / ハニスト】   \n",
       "url             https://youtu.be/o0h0yniiwrI   \n",
       "\n",
       "                                                       6   \\\n",
       "time                                               18時00分   \n",
       "member                                              季咲あんこ   \n",
       "title   【Knockout City】ドッジボールの世界ついにきたああああ！【 季咲あんこ / ブイ...   \n",
       "url                          https://youtu.be/JTnWEYuvpMg   \n",
       "\n",
       "                                                    7   \\\n",
       "time                                            19時00分   \n",
       "member                                           飛良ひかり   \n",
       "title   【ちゅーっと】なにをしたらヒーローっぽくなるのかを考える！【 飛良ひかり / あにまーれ 】   \n",
       "url                       https://youtu.be/66V9TgVaGAo   \n",
       "\n",
       "                                             8                             9   \\\n",
       "time                                     19時00分                        19時00分   \n",
       "member                                     小森めと                         龍ヶ崎リン   \n",
       "title   【バイオ8】バイオハザード ヴィレッジ 初見ぷれぃ②【小森めと / ブイアパ】   すしたべたい×50000【龍ヶ崎リン / シュガリリ】   \n",
       "url                https://youtu.be/oRbwABZJNeE  https://youtu.be/HXJhd2Lg5A4   \n",
       "\n",
       "                                    10  \\\n",
       "time                            19時30分   \n",
       "member                            白宮みみ   \n",
       "title   【VALORANT】ランク3日目【白宮みみ / あにまーれ】   \n",
       "url       https://youtu.be/lk6sPmmXlFI   \n",
       "\n",
       "                                            11  \\\n",
       "time                                    21時00分   \n",
       "member                                   日ノ隈らん   \n",
       "title   【世界のアソビ大全51】らんたやんVSめあたむ【日ノ隈らん / あにまーれ】   \n",
       "url               https://youtu.be/c14-32EqcoA   \n",
       "\n",
       "                                                   12  \\\n",
       "time                                           21時00分   \n",
       "member                                           風見くく   \n",
       "title   【No Archive】今日は家賃分くらい散財した気がします。【風見くく / あにまーれ】   \n",
       "url                      https://youtu.be/0KexSQSHG08   \n",
       "\n",
       "                                                       13  \\\n",
       "time                                               21時00分   \n",
       "member                                             西園寺メアリ   \n",
       "title   【ミートピア】774incの子達と冒険旅！part2！Miitopia【西園寺メアリ / ハ...   \n",
       "url                          https://youtu.be/jxk7gNngJkc   \n",
       "\n",
       "                                                  14  \\\n",
       "time                                          21時00分   \n",
       "member                                        獅子王クリス   \n",
       "title   【Miitopia】正直キャラメイクやりたくて買った。【獅子王クリス/シュガーリリック】   \n",
       "url                     https://youtu.be/dKpu0otWTTg   \n",
       "\n",
       "                                                       15  \\\n",
       "time                                               23時00分   \n",
       "member                                              因幡はねる   \n",
       "title   【#漫画プレゼン同好会】社築に読ませたい漫画プレゼン大会【社築/緑仙/因幡はねる/伊東ライフ...   \n",
       "url                          https://youtu.be/cxaf0nvz2LA   \n",
       "\n",
       "                                                       16  \n",
       "time                                               23時00分  \n",
       "member                                              龍ヶ崎リン  \n",
       "title   【バイオハザード ヴィレッジ】#4 イケメンおじさんとなかよくなる / ハイゼンベルク工場編...  \n",
       "url                          https://youtu.be/j2SQj_jm1CI  "
      ]
     },
     "execution_count": 86,
     "metadata": {},
     "output_type": "execute_result"
    }
   ],
   "source": [
    "stream_data"
   ]
  },
  {
   "cell_type": "code",
   "execution_count": 84,
   "id": "731c3b7d",
   "metadata": {},
   "outputs": [
    {
     "data": {
      "text/plain": [
       "<li>18時00分　<noscript class=\"loading-lazy\"><img alt=\"face.jpg\" height=\"25\" loading=\"lazy\" src=\"https://cdn.wikiwiki.jp/to/w/774inc/%E5%A0%B0%E4%BB%A3%E3%83%9F%E3%82%B3/::ref/face.jpg?rev=3bdfffe7c3f687f1f6138292746c0069&amp;t=20200822131349\" title=\"face.jpg\" width=\"25\"/></noscript><script data-plugin-ref=\"placeholder\">document.write('<img data-plugin-ref=\"placeholder\" src=\"data:image/svg+xml,%3Csvg xmlns=%27http://www.w3.org/2000/svg%27 viewBox=%270 0 25 25%27%3E%3C/svg%3E\" width=\"25\" height=\"25\" >')</script> 堰代ミコ：<a class=\"ext\" href=\"https://youtu.be/o0h0yniiwrI\" rel=\"nofollow\">【メンバー限定】うわぁあ！？急に歌うなあッ！！【堰代ミコ / ハニスト】<img alt=\"\" class=\"ext pukiwiki-open-uri\" data-frame=\"_blank\" data-href=\"https://youtu.be/o0h0yniiwrI\" src=\"https://cdn.wikiwiki.jp/to/w/common/image/plus/ext.png?v=4\" title=\"\"/></a>\n",
       "<ul class=\"list2\"><li>メンバーシップ限定配信</li></ul></li>"
      ]
     },
     "execution_count": 84,
     "metadata": {},
     "output_type": "execute_result"
    }
   ],
   "source": [
    "lis[5]"
   ]
  },
  {
   "cell_type": "code",
   "execution_count": 67,
   "id": "e5b5b368",
   "metadata": {},
   "outputs": [
    {
     "data": {
      "text/plain": [
       "<li>メンバーシップ限定配信</li>"
      ]
     },
     "execution_count": 67,
     "metadata": {},
     "output_type": "execute_result"
    }
   ],
   "source": [
    "lis[6]"
   ]
  },
  {
   "cell_type": "code",
   "execution_count": 60,
   "id": "9bd71d86",
   "metadata": {},
   "outputs": [],
   "source": [
    "for li in lis:\n",
    "    time = li.text.split()[0]\n",
    "    member = li.text.split()[1].split('：')[0]\n",
    "    title = li.select('a')[0].text\n",
    "    url = li.select('a')[0]['href']\n",
    "    stream_data[count] = [time, member, title, url]\n",
    "    count += 1"
   ]
  },
  {
   "cell_type": "code",
   "execution_count": null,
   "id": "a46b34d8",
   "metadata": {},
   "outputs": [],
   "source": []
  },
  {
   "cell_type": "code",
   "execution_count": 58,
   "id": "344d9319",
   "metadata": {},
   "outputs": [
    {
     "data": {
      "text/plain": [
       "<li>メンバーシップ限定配信</li>"
      ]
     },
     "execution_count": 58,
     "metadata": {},
     "output_type": "execute_result"
    }
   ],
   "source": [
    "lis[6]"
   ]
  },
  {
   "cell_type": "code",
   "execution_count": 43,
   "id": "64754c6d",
   "metadata": {
    "scrolled": true
   },
   "outputs": [
    {
     "data": {
      "text/plain": [
       "10"
      ]
     },
     "execution_count": 43,
     "metadata": {},
     "output_type": "execute_result"
    }
   ],
   "source": [
    "count"
   ]
  },
  {
   "cell_type": "code",
   "execution_count": 33,
   "id": "2c44eb89",
   "metadata": {},
   "outputs": [
    {
     "data": {
      "text/plain": [
       "<ul class=\"list1\"><li>0時00分　<noscript class=\"loading-lazy\"><img alt=\"face.jpg\" height=\"25\" loading=\"lazy\" src=\"https://cdn.wikiwiki.jp/to/w/774inc/%E7%BE%BD%E6%9F%B4%E3%81%AA%E3%81%A4%E3%81%BF/::ref/face.jpg?rev=fd1006fed9c65ca407055ba0312f3197&amp;t=20200821220407\" title=\"face.jpg\" width=\"25\"/></noscript><script data-plugin-ref=\"placeholder\">document.write('<img data-plugin-ref=\"placeholder\" src=\"data:image/svg+xml,%3Csvg xmlns=%27http://www.w3.org/2000/svg%27 viewBox=%270 0 25 25%27%3E%3C/svg%3E\" width=\"25\" height=\"25\" >')</script> 羽柴なつみ：<a class=\"ext\" href=\"https://youtu.be/ISTCOZpw7oI\" rel=\"nofollow\">私は今、どこにいるでしょーうか！【羽柴なつみ / あにまーれ】<img alt=\"\" class=\"ext pukiwiki-open-uri\" data-frame=\"_blank\" data-href=\"https://youtu.be/ISTCOZpw7oI\" src=\"https://cdn.wikiwiki.jp/to/w/common/image/plus/ext.png?v=4\" title=\"\"/></a></li>\n",
       "<li>6時30分　<noscript class=\"loading-lazy\"><img alt=\"face.jpg\" height=\"25\" loading=\"lazy\" src=\"https://cdn.wikiwiki.jp/to/w/774inc/%E8%99%8E%E5%9F%8E%E3%82%A2%E3%83%B3%E3%83%8A/::ref/face.jpg?rev=4b14a97263cac1c577852d33b7f7dd84&amp;t=20200821234059\" title=\"face.jpg\" width=\"25\"/></noscript><script data-plugin-ref=\"placeholder\">document.write('<img data-plugin-ref=\"placeholder\" src=\"data:image/svg+xml,%3Csvg xmlns=%27http://www.w3.org/2000/svg%27 viewBox=%270 0 25 25%27%3E%3C/svg%3E\" width=\"25\" height=\"25\" >')</script> 虎城アンナ：<a class=\"ext\" href=\"https://youtu.be/hEeZoFbJYQs\" rel=\"nofollow\">【寝起き朝枠】おめでとうございます。今日は≪アナタ≫さんの誕生日です。（ガッキーヴォイスで）【虎城アンナ / シュガリリ】<img alt=\"\" class=\"ext pukiwiki-open-uri\" data-frame=\"_blank\" data-href=\"https://youtu.be/hEeZoFbJYQs\" src=\"https://cdn.wikiwiki.jp/to/w/common/image/plus/ext.png?v=4\" title=\"\"/></a></li>\n",
       "<li>7時00分　<noscript class=\"loading-lazy\"><img alt=\"face.jpg\" height=\"25\" loading=\"lazy\" src=\"https://cdn.wikiwiki.jp/to/w/774inc/%E8%A5%BF%E5%9C%92%E5%AF%BA%E3%83%A1%E3%82%A2%E3%83%AA/::ref/face.jpg?rev=8eb4d37de1b1d36d976fd3162dee5dbd&amp;t=20200822130607\" title=\"face.jpg\" width=\"25\"/></noscript><script data-plugin-ref=\"placeholder\">document.write('<img data-plugin-ref=\"placeholder\" src=\"data:image/svg+xml,%3Csvg xmlns=%27http://www.w3.org/2000/svg%27 viewBox=%270 0 25 25%27%3E%3C/svg%3E\" width=\"25\" height=\"25\" >')</script> 西園寺メアリ：<a class=\"ext\" href=\"https://youtu.be/Uz1SGfvkoHY\" rel=\"nofollow\">【朝活】朝活を楽しむ！いってらっしゃいラジオ【西園寺メアリ / ハニスト】<img alt=\"\" class=\"ext pukiwiki-open-uri\" data-frame=\"_blank\" data-href=\"https://youtu.be/Uz1SGfvkoHY\" src=\"https://cdn.wikiwiki.jp/to/w/common/image/plus/ext.png?v=4\" title=\"\"/></a></li></ul>"
      ]
     },
     "execution_count": 33,
     "metadata": {},
     "output_type": "execute_result"
    }
   ],
   "source": [
    "lis[0]"
   ]
  },
  {
   "cell_type": "code",
   "execution_count": 11,
   "id": "2fa69de5",
   "metadata": {},
   "outputs": [
    {
     "data": {
      "text/html": [
       "<div>\n",
       "<style scoped>\n",
       "    .dataframe tbody tr th:only-of-type {\n",
       "        vertical-align: middle;\n",
       "    }\n",
       "\n",
       "    .dataframe tbody tr th {\n",
       "        vertical-align: top;\n",
       "    }\n",
       "\n",
       "    .dataframe thead th {\n",
       "        text-align: right;\n",
       "    }\n",
       "</style>\n",
       "<table border=\"1\" class=\"dataframe\">\n",
       "  <thead>\n",
       "    <tr style=\"text-align: right;\">\n",
       "      <th></th>\n",
       "    </tr>\n",
       "  </thead>\n",
       "  <tbody>\n",
       "    <tr>\n",
       "      <th>time</th>\n",
       "    </tr>\n",
       "    <tr>\n",
       "      <th>member</th>\n",
       "    </tr>\n",
       "    <tr>\n",
       "      <th>title</th>\n",
       "    </tr>\n",
       "    <tr>\n",
       "      <th>url</th>\n",
       "    </tr>\n",
       "  </tbody>\n",
       "</table>\n",
       "</div>"
      ],
      "text/plain": [
       "Empty DataFrame\n",
       "Columns: []\n",
       "Index: [time, member, title, url]"
      ]
     },
     "execution_count": 11,
     "metadata": {},
     "output_type": "execute_result"
    }
   ],
   "source": [
    "stream_data"
   ]
  },
  {
   "cell_type": "code",
   "execution_count": 3,
   "id": "745faf13",
   "metadata": {},
   "outputs": [],
   "source": [
    "soup = BeautifulSoup(resp.text, 'lxml')"
   ]
  },
  {
   "cell_type": "code",
   "execution_count": 8,
   "id": "ba881a7a",
   "metadata": {},
   "outputs": [
    {
     "data": {
      "text/plain": [
       "[<div class=\"minicalendar_viewer\"><ul class=\"list1\"><li>7時00分　<noscript class=\"loading-lazy\"><img alt=\"face.jpg\" height=\"25\" loading=\"lazy\" src=\"https://cdn.wikiwiki.jp/to/w/774inc/%E7%80%AC%E5%B3%B6%E3%82%8B%E3%81%84/::ref/face.jpg?rev=51ef1d3d7f84df43c33b99c8db05147c&amp;t=20201010203439\" title=\"face.jpg\" width=\"25\"/></noscript><script data-plugin-ref=\"placeholder\">document.write('<img data-plugin-ref=\"placeholder\" src=\"data:image/svg+xml,%3Csvg xmlns=%27http://www.w3.org/2000/svg%27 viewBox=%270 0 25 25%27%3E%3C/svg%3E\" width=\"25\" height=\"25\" >')</script> 瀬島るい：</li>\n",
       " <li>7時00分　<noscript class=\"loading-lazy\"><img alt=\"face.jpg\" height=\"25\" loading=\"lazy\" src=\"https://cdn.wikiwiki.jp/to/w/774inc/%E8%A5%BF%E5%9C%92%E5%AF%BA%E3%83%A1%E3%82%A2%E3%83%AA/::ref/face.jpg?rev=8eb4d37de1b1d36d976fd3162dee5dbd&amp;t=20200822130607\" title=\"face.jpg\" width=\"25\"/></noscript><script data-plugin-ref=\"placeholder\">document.write('<img data-plugin-ref=\"placeholder\" src=\"data:image/svg+xml,%3Csvg xmlns=%27http://www.w3.org/2000/svg%27 viewBox=%270 0 25 25%27%3E%3C/svg%3E\" width=\"25\" height=\"25\" >')</script> 西園寺メアリ：</li></ul>\n",
       " <hr class=\"full_hr\"/>\n",
       " <ul class=\"list1\"><li>12時00分　<noscript class=\"loading-lazy\"><img alt=\"face.jpg\" height=\"25\" loading=\"lazy\" src=\"https://cdn.wikiwiki.jp/to/w/774inc/%E7%99%BD%E5%AE%AE%E3%81%BF%E3%81%BF/::ref/face.jpg?rev=2660600e65366463e9b86eecfcf46976&amp;t=20200821214457\" title=\"face.jpg\" width=\"25\"/></noscript><script data-plugin-ref=\"placeholder\">document.write('<img data-plugin-ref=\"placeholder\" src=\"data:image/svg+xml,%3Csvg xmlns=%27http://www.w3.org/2000/svg%27 viewBox=%270 0 25 25%27%3E%3C/svg%3E\" width=\"25\" height=\"25\" >')</script> 白宮みみ：</li></ul>\n",
       " <hr class=\"full_hr\"/>\n",
       " <ul class=\"list1\"><li>18時00分　<noscript class=\"loading-lazy\"><img alt=\"face.jpg\" height=\"25\" loading=\"lazy\" src=\"https://cdn.wikiwiki.jp/to/w/774inc/%E5%A0%B0%E4%BB%A3%E3%83%9F%E3%82%B3/::ref/face.jpg?rev=3bdfffe7c3f687f1f6138292746c0069&amp;t=20200822131349\" title=\"face.jpg\" width=\"25\"/></noscript><script data-plugin-ref=\"placeholder\">document.write('<img data-plugin-ref=\"placeholder\" src=\"data:image/svg+xml,%3Csvg xmlns=%27http://www.w3.org/2000/svg%27 viewBox=%270 0 25 25%27%3E%3C/svg%3E\" width=\"25\" height=\"25\" >')</script> 堰代ミコ：</li>\n",
       " <li>19時00分　<noscript class=\"loading-lazy\"><img alt=\"face.jpg\" height=\"25\" loading=\"lazy\" src=\"https://cdn.wikiwiki.jp/to/w/774inc/%E8%99%8E%E5%9F%8E%E3%82%A2%E3%83%B3%E3%83%8A/::ref/face.jpg?rev=4b14a97263cac1c577852d33b7f7dd84&amp;t=20200821234059\" title=\"face.jpg\" width=\"25\"/></noscript><script data-plugin-ref=\"placeholder\">document.write('<img data-plugin-ref=\"placeholder\" src=\"data:image/svg+xml,%3Csvg xmlns=%27http://www.w3.org/2000/svg%27 viewBox=%270 0 25 25%27%3E%3C/svg%3E\" width=\"25\" height=\"25\" >')</script> 虎城アンナ：</li>\n",
       " <li>20時00分　<noscript class=\"loading-lazy\"><img alt=\"face.jpg\" height=\"25\" loading=\"lazy\" src=\"https://cdn.wikiwiki.jp/to/w/774inc/%E9%A3%9B%E8%89%AF%E3%81%B2%E3%81%8B%E3%82%8A/::ref/face.jpg?rev=70d28b00b4506992185d47ac9a96daf7&amp;t=20201010203650\" title=\"face.jpg\" width=\"25\"/></noscript><script data-plugin-ref=\"placeholder\">document.write('<img data-plugin-ref=\"placeholder\" src=\"data:image/svg+xml,%3Csvg xmlns=%27http://www.w3.org/2000/svg%27 viewBox=%270 0 25 25%27%3E%3C/svg%3E\" width=\"25\" height=\"25\" >')</script> 飛良ひかり：</li></ul>\n",
       " <hr class=\"full_hr\"/>\n",
       " <ul class=\"list1\"><li>21時00分　<noscript class=\"loading-lazy\"><img alt=\"face.jpg\" height=\"25\" loading=\"lazy\" src=\"https://cdn.wikiwiki.jp/to/w/774inc/%E7%80%AC%E5%B3%B6%E3%82%8B%E3%81%84/::ref/face.jpg?rev=51ef1d3d7f84df43c33b99c8db05147c&amp;t=20201010203439\" title=\"face.jpg\" width=\"25\"/></noscript><script data-plugin-ref=\"placeholder\">document.write('<img data-plugin-ref=\"placeholder\" src=\"data:image/svg+xml,%3Csvg xmlns=%27http://www.w3.org/2000/svg%27 viewBox=%270 0 25 25%27%3E%3C/svg%3E\" width=\"25\" height=\"25\" >')</script> 瀬島るい、<noscript class=\"loading-lazy\"><img alt=\"face.jpg\" height=\"25\" loading=\"lazy\" src=\"https://cdn.wikiwiki.jp/to/w/774inc/%E5%A4%A7%E6%B5%A6%E3%82%8B%E3%81%8B%E3%81%93/::ref/face.jpg?rev=97addb96f1a36d6fff433013035d5666&amp;t=20210207204433\" title=\"face.jpg\" width=\"25\"/></noscript><script data-plugin-ref=\"placeholder\">document.write('<img data-plugin-ref=\"placeholder\" src=\"data:image/svg+xml,%3Csvg xmlns=%27http://www.w3.org/2000/svg%27 viewBox=%270 0 25 25%27%3E%3C/svg%3E\" width=\"25\" height=\"25\" >')</script> 大浦るかこ、<noscript class=\"loading-lazy\"><img alt=\"face.jpg\" height=\"25\" loading=\"lazy\" src=\"https://cdn.wikiwiki.jp/to/w/774inc/%E6%B9%96%E5%8D%97%E3%81%BF%E3%81%82/::ref/face.jpg?rev=663cd4f5e85bb518c0cac3e9b29cbf4c&amp;t=20210207204309\" title=\"face.jpg\" width=\"25\"/></noscript><script data-plugin-ref=\"placeholder\">document.write('<img data-plugin-ref=\"placeholder\" src=\"data:image/svg+xml,%3Csvg xmlns=%27http://www.w3.org/2000/svg%27 viewBox=%270 0 25 25%27%3E%3C/svg%3E\" width=\"25\" height=\"25\" >')</script> 湖南みあ：</li>\n",
       " <li>21時00分　<noscript class=\"loading-lazy\"><img alt=\"face.jpg\" height=\"25\" loading=\"lazy\" src=\"https://cdn.wikiwiki.jp/to/w/774inc/%E7%8D%85%E5%AD%90%E7%8E%8B%E3%82%AF%E3%83%AA%E3%82%B9/::ref/face.jpg?rev=cc2c394993d8e7cc1d7e108b992d34ac&amp;t=20200821234400\" title=\"face.jpg\" width=\"25\"/></noscript><script data-plugin-ref=\"placeholder\">document.write('<img data-plugin-ref=\"placeholder\" src=\"data:image/svg+xml,%3Csvg xmlns=%27http://www.w3.org/2000/svg%27 viewBox=%270 0 25 25%27%3E%3C/svg%3E\" width=\"25\" height=\"25\" >')</script> 獅子王クリス：</li>\n",
       " <li>22時00分　<noscript class=\"loading-lazy\"><img alt=\"face.jpg\" height=\"25\" loading=\"lazy\" src=\"https://cdn.wikiwiki.jp/to/w/774inc/%E6%9F%9A%E5%8E%9F%E3%81%84%E3%81%A5%E3%81%BF/::ref/face.jpg?rev=a767f411a255cb3e4251ae07164b54f8&amp;t=20200821214328\" title=\"face.jpg\" width=\"25\"/></noscript><script data-plugin-ref=\"placeholder\">document.write('<img data-plugin-ref=\"placeholder\" src=\"data:image/svg+xml,%3Csvg xmlns=%27http://www.w3.org/2000/svg%27 viewBox=%270 0 25 25%27%3E%3C/svg%3E\" width=\"25\" height=\"25\" >')</script> 柚原いづみ：</li>\n",
       " <li>23時00分　<noscript class=\"loading-lazy\"><img alt=\"face.jpg\" height=\"25\" loading=\"lazy\" src=\"https://cdn.wikiwiki.jp/to/w/774inc/%E5%9B%A0%E5%B9%A1%E3%81%AF%E3%81%AD%E3%82%8B/::ref/face.jpg?rev=470851f43426e372cc1046778893cd3c&amp;t=20200821213817\" title=\"face.jpg\" width=\"25\"/></noscript><script data-plugin-ref=\"placeholder\">document.write('<img data-plugin-ref=\"placeholder\" src=\"data:image/svg+xml,%3Csvg xmlns=%27http://www.w3.org/2000/svg%27 viewBox=%270 0 25 25%27%3E%3C/svg%3E\" width=\"25\" height=\"25\" >')</script> 因幡はねる：</li></ul>\n",
       " </div>]"
      ]
     },
     "execution_count": 8,
     "metadata": {},
     "output_type": "execute_result"
    }
   ],
   "source": [
    "soup.select(selector)"
   ]
  },
  {
   "cell_type": "code",
   "execution_count": 6,
   "id": "563107a0",
   "metadata": {},
   "outputs": [
    {
     "data": {
      "text/plain": [
       "[<ul class=\"list1\"><li>7時00分　<noscript class=\"loading-lazy\"><img alt=\"face.jpg\" height=\"25\" loading=\"lazy\" src=\"https://cdn.wikiwiki.jp/to/w/774inc/%E7%80%AC%E5%B3%B6%E3%82%8B%E3%81%84/::ref/face.jpg?rev=51ef1d3d7f84df43c33b99c8db05147c&amp;t=20201010203439\" title=\"face.jpg\" width=\"25\"/></noscript><script data-plugin-ref=\"placeholder\">document.write('<img data-plugin-ref=\"placeholder\" src=\"data:image/svg+xml,%3Csvg xmlns=%27http://www.w3.org/2000/svg%27 viewBox=%270 0 25 25%27%3E%3C/svg%3E\" width=\"25\" height=\"25\" >')</script> 瀬島るい：</li>\n",
       " <li>7時00分　<noscript class=\"loading-lazy\"><img alt=\"face.jpg\" height=\"25\" loading=\"lazy\" src=\"https://cdn.wikiwiki.jp/to/w/774inc/%E8%A5%BF%E5%9C%92%E5%AF%BA%E3%83%A1%E3%82%A2%E3%83%AA/::ref/face.jpg?rev=8eb4d37de1b1d36d976fd3162dee5dbd&amp;t=20200822130607\" title=\"face.jpg\" width=\"25\"/></noscript><script data-plugin-ref=\"placeholder\">document.write('<img data-plugin-ref=\"placeholder\" src=\"data:image/svg+xml,%3Csvg xmlns=%27http://www.w3.org/2000/svg%27 viewBox=%270 0 25 25%27%3E%3C/svg%3E\" width=\"25\" height=\"25\" >')</script> 西園寺メアリ：</li></ul>,\n",
       " <ul class=\"list1\"><li>12時00分　<noscript class=\"loading-lazy\"><img alt=\"face.jpg\" height=\"25\" loading=\"lazy\" src=\"https://cdn.wikiwiki.jp/to/w/774inc/%E7%99%BD%E5%AE%AE%E3%81%BF%E3%81%BF/::ref/face.jpg?rev=2660600e65366463e9b86eecfcf46976&amp;t=20200821214457\" title=\"face.jpg\" width=\"25\"/></noscript><script data-plugin-ref=\"placeholder\">document.write('<img data-plugin-ref=\"placeholder\" src=\"data:image/svg+xml,%3Csvg xmlns=%27http://www.w3.org/2000/svg%27 viewBox=%270 0 25 25%27%3E%3C/svg%3E\" width=\"25\" height=\"25\" >')</script> 白宮みみ：</li></ul>,\n",
       " <ul class=\"list1\"><li>18時00分　<noscript class=\"loading-lazy\"><img alt=\"face.jpg\" height=\"25\" loading=\"lazy\" src=\"https://cdn.wikiwiki.jp/to/w/774inc/%E5%A0%B0%E4%BB%A3%E3%83%9F%E3%82%B3/::ref/face.jpg?rev=3bdfffe7c3f687f1f6138292746c0069&amp;t=20200822131349\" title=\"face.jpg\" width=\"25\"/></noscript><script data-plugin-ref=\"placeholder\">document.write('<img data-plugin-ref=\"placeholder\" src=\"data:image/svg+xml,%3Csvg xmlns=%27http://www.w3.org/2000/svg%27 viewBox=%270 0 25 25%27%3E%3C/svg%3E\" width=\"25\" height=\"25\" >')</script> 堰代ミコ：</li>\n",
       " <li>19時00分　<noscript class=\"loading-lazy\"><img alt=\"face.jpg\" height=\"25\" loading=\"lazy\" src=\"https://cdn.wikiwiki.jp/to/w/774inc/%E8%99%8E%E5%9F%8E%E3%82%A2%E3%83%B3%E3%83%8A/::ref/face.jpg?rev=4b14a97263cac1c577852d33b7f7dd84&amp;t=20200821234059\" title=\"face.jpg\" width=\"25\"/></noscript><script data-plugin-ref=\"placeholder\">document.write('<img data-plugin-ref=\"placeholder\" src=\"data:image/svg+xml,%3Csvg xmlns=%27http://www.w3.org/2000/svg%27 viewBox=%270 0 25 25%27%3E%3C/svg%3E\" width=\"25\" height=\"25\" >')</script> 虎城アンナ：</li>\n",
       " <li>20時00分　<noscript class=\"loading-lazy\"><img alt=\"face.jpg\" height=\"25\" loading=\"lazy\" src=\"https://cdn.wikiwiki.jp/to/w/774inc/%E9%A3%9B%E8%89%AF%E3%81%B2%E3%81%8B%E3%82%8A/::ref/face.jpg?rev=70d28b00b4506992185d47ac9a96daf7&amp;t=20201010203650\" title=\"face.jpg\" width=\"25\"/></noscript><script data-plugin-ref=\"placeholder\">document.write('<img data-plugin-ref=\"placeholder\" src=\"data:image/svg+xml,%3Csvg xmlns=%27http://www.w3.org/2000/svg%27 viewBox=%270 0 25 25%27%3E%3C/svg%3E\" width=\"25\" height=\"25\" >')</script> 飛良ひかり：</li></ul>,\n",
       " <ul class=\"list1\"><li>21時00分　<noscript class=\"loading-lazy\"><img alt=\"face.jpg\" height=\"25\" loading=\"lazy\" src=\"https://cdn.wikiwiki.jp/to/w/774inc/%E7%80%AC%E5%B3%B6%E3%82%8B%E3%81%84/::ref/face.jpg?rev=51ef1d3d7f84df43c33b99c8db05147c&amp;t=20201010203439\" title=\"face.jpg\" width=\"25\"/></noscript><script data-plugin-ref=\"placeholder\">document.write('<img data-plugin-ref=\"placeholder\" src=\"data:image/svg+xml,%3Csvg xmlns=%27http://www.w3.org/2000/svg%27 viewBox=%270 0 25 25%27%3E%3C/svg%3E\" width=\"25\" height=\"25\" >')</script> 瀬島るい、<noscript class=\"loading-lazy\"><img alt=\"face.jpg\" height=\"25\" loading=\"lazy\" src=\"https://cdn.wikiwiki.jp/to/w/774inc/%E5%A4%A7%E6%B5%A6%E3%82%8B%E3%81%8B%E3%81%93/::ref/face.jpg?rev=97addb96f1a36d6fff433013035d5666&amp;t=20210207204433\" title=\"face.jpg\" width=\"25\"/></noscript><script data-plugin-ref=\"placeholder\">document.write('<img data-plugin-ref=\"placeholder\" src=\"data:image/svg+xml,%3Csvg xmlns=%27http://www.w3.org/2000/svg%27 viewBox=%270 0 25 25%27%3E%3C/svg%3E\" width=\"25\" height=\"25\" >')</script> 大浦るかこ、<noscript class=\"loading-lazy\"><img alt=\"face.jpg\" height=\"25\" loading=\"lazy\" src=\"https://cdn.wikiwiki.jp/to/w/774inc/%E6%B9%96%E5%8D%97%E3%81%BF%E3%81%82/::ref/face.jpg?rev=663cd4f5e85bb518c0cac3e9b29cbf4c&amp;t=20210207204309\" title=\"face.jpg\" width=\"25\"/></noscript><script data-plugin-ref=\"placeholder\">document.write('<img data-plugin-ref=\"placeholder\" src=\"data:image/svg+xml,%3Csvg xmlns=%27http://www.w3.org/2000/svg%27 viewBox=%270 0 25 25%27%3E%3C/svg%3E\" width=\"25\" height=\"25\" >')</script> 湖南みあ：</li>\n",
       " <li>21時00分　<noscript class=\"loading-lazy\"><img alt=\"face.jpg\" height=\"25\" loading=\"lazy\" src=\"https://cdn.wikiwiki.jp/to/w/774inc/%E7%8D%85%E5%AD%90%E7%8E%8B%E3%82%AF%E3%83%AA%E3%82%B9/::ref/face.jpg?rev=cc2c394993d8e7cc1d7e108b992d34ac&amp;t=20200821234400\" title=\"face.jpg\" width=\"25\"/></noscript><script data-plugin-ref=\"placeholder\">document.write('<img data-plugin-ref=\"placeholder\" src=\"data:image/svg+xml,%3Csvg xmlns=%27http://www.w3.org/2000/svg%27 viewBox=%270 0 25 25%27%3E%3C/svg%3E\" width=\"25\" height=\"25\" >')</script> 獅子王クリス：</li>\n",
       " <li>22時00分　<noscript class=\"loading-lazy\"><img alt=\"face.jpg\" height=\"25\" loading=\"lazy\" src=\"https://cdn.wikiwiki.jp/to/w/774inc/%E6%9F%9A%E5%8E%9F%E3%81%84%E3%81%A5%E3%81%BF/::ref/face.jpg?rev=a767f411a255cb3e4251ae07164b54f8&amp;t=20200821214328\" title=\"face.jpg\" width=\"25\"/></noscript><script data-plugin-ref=\"placeholder\">document.write('<img data-plugin-ref=\"placeholder\" src=\"data:image/svg+xml,%3Csvg xmlns=%27http://www.w3.org/2000/svg%27 viewBox=%270 0 25 25%27%3E%3C/svg%3E\" width=\"25\" height=\"25\" >')</script> 柚原いづみ：</li>\n",
       " <li>23時00分　<noscript class=\"loading-lazy\"><img alt=\"face.jpg\" height=\"25\" loading=\"lazy\" src=\"https://cdn.wikiwiki.jp/to/w/774inc/%E5%9B%A0%E5%B9%A1%E3%81%AF%E3%81%AD%E3%82%8B/::ref/face.jpg?rev=470851f43426e372cc1046778893cd3c&amp;t=20200821213817\" title=\"face.jpg\" width=\"25\"/></noscript><script data-plugin-ref=\"placeholder\">document.write('<img data-plugin-ref=\"placeholder\" src=\"data:image/svg+xml,%3Csvg xmlns=%27http://www.w3.org/2000/svg%27 viewBox=%270 0 25 25%27%3E%3C/svg%3E\" width=\"25\" height=\"25\" >')</script> 因幡はねる：</li></ul>]"
      ]
     },
     "execution_count": 6,
     "metadata": {},
     "output_type": "execute_result"
    }
   ],
   "source": [
    "lis = soup.select(selector)[0].find_all('ul', class_='list1')\n",
    "lis"
   ]
  },
  {
   "cell_type": "code",
   "execution_count": 159,
   "id": "a5227d38",
   "metadata": {},
   "outputs": [
    {
     "data": {
      "text/plain": [
       "<div class=\"minicalendar_viewer\"><ul class=\"list1\"><li>7時00分　<noscript class=\"loading-lazy\"><img alt=\"face.jpg\" height=\"25\" loading=\"lazy\" src=\"https://cdn.wikiwiki.jp/to/w/774inc/%E7%80%AC%E5%B3%B6%E3%82%8B%E3%81%84/::ref/face.jpg?rev=51ef1d3d7f84df43c33b99c8db05147c&amp;t=20201010203439\" title=\"face.jpg\" width=\"25\"/></noscript><script data-plugin-ref=\"placeholder\">document.write('<img data-plugin-ref=\"placeholder\" src=\"data:image/svg+xml,%3Csvg xmlns=%27http://www.w3.org/2000/svg%27 viewBox=%270 0 25 25%27%3E%3C/svg%3E\" width=\"25\" height=\"25\" >')</script> 瀬島るい：</li>\n",
       "<li>7時00分　<noscript class=\"loading-lazy\"><img alt=\"face.jpg\" height=\"25\" loading=\"lazy\" src=\"https://cdn.wikiwiki.jp/to/w/774inc/%E8%A5%BF%E5%9C%92%E5%AF%BA%E3%83%A1%E3%82%A2%E3%83%AA/::ref/face.jpg?rev=8eb4d37de1b1d36d976fd3162dee5dbd&amp;t=20200822130607\" title=\"face.jpg\" width=\"25\"/></noscript><script data-plugin-ref=\"placeholder\">document.write('<img data-plugin-ref=\"placeholder\" src=\"data:image/svg+xml,%3Csvg xmlns=%27http://www.w3.org/2000/svg%27 viewBox=%270 0 25 25%27%3E%3C/svg%3E\" width=\"25\" height=\"25\" >')</script> 西園寺メアリ：</li></ul>\n",
       "<hr class=\"full_hr\"/>\n",
       "<ul class=\"list1\"><li>12時00分　<noscript class=\"loading-lazy\"><img alt=\"face.jpg\" height=\"25\" loading=\"lazy\" src=\"https://cdn.wikiwiki.jp/to/w/774inc/%E7%99%BD%E5%AE%AE%E3%81%BF%E3%81%BF/::ref/face.jpg?rev=2660600e65366463e9b86eecfcf46976&amp;t=20200821214457\" title=\"face.jpg\" width=\"25\"/></noscript><script data-plugin-ref=\"placeholder\">document.write('<img data-plugin-ref=\"placeholder\" src=\"data:image/svg+xml,%3Csvg xmlns=%27http://www.w3.org/2000/svg%27 viewBox=%270 0 25 25%27%3E%3C/svg%3E\" width=\"25\" height=\"25\" >')</script> 白宮みみ：</li></ul>\n",
       "<hr class=\"full_hr\"/>\n",
       "<ul class=\"list1\"><li>18時00分　<noscript class=\"loading-lazy\"><img alt=\"face.jpg\" height=\"25\" loading=\"lazy\" src=\"https://cdn.wikiwiki.jp/to/w/774inc/%E5%A0%B0%E4%BB%A3%E3%83%9F%E3%82%B3/::ref/face.jpg?rev=3bdfffe7c3f687f1f6138292746c0069&amp;t=20200822131349\" title=\"face.jpg\" width=\"25\"/></noscript><script data-plugin-ref=\"placeholder\">document.write('<img data-plugin-ref=\"placeholder\" src=\"data:image/svg+xml,%3Csvg xmlns=%27http://www.w3.org/2000/svg%27 viewBox=%270 0 25 25%27%3E%3C/svg%3E\" width=\"25\" height=\"25\" >')</script> 堰代ミコ：</li>\n",
       "<li>19時00分　<noscript class=\"loading-lazy\"><img alt=\"face.jpg\" height=\"25\" loading=\"lazy\" src=\"https://cdn.wikiwiki.jp/to/w/774inc/%E8%99%8E%E5%9F%8E%E3%82%A2%E3%83%B3%E3%83%8A/::ref/face.jpg?rev=4b14a97263cac1c577852d33b7f7dd84&amp;t=20200821234059\" title=\"face.jpg\" width=\"25\"/></noscript><script data-plugin-ref=\"placeholder\">document.write('<img data-plugin-ref=\"placeholder\" src=\"data:image/svg+xml,%3Csvg xmlns=%27http://www.w3.org/2000/svg%27 viewBox=%270 0 25 25%27%3E%3C/svg%3E\" width=\"25\" height=\"25\" >')</script> 虎城アンナ：</li>\n",
       "<li>20時00分　<noscript class=\"loading-lazy\"><img alt=\"face.jpg\" height=\"25\" loading=\"lazy\" src=\"https://cdn.wikiwiki.jp/to/w/774inc/%E9%A3%9B%E8%89%AF%E3%81%B2%E3%81%8B%E3%82%8A/::ref/face.jpg?rev=70d28b00b4506992185d47ac9a96daf7&amp;t=20201010203650\" title=\"face.jpg\" width=\"25\"/></noscript><script data-plugin-ref=\"placeholder\">document.write('<img data-plugin-ref=\"placeholder\" src=\"data:image/svg+xml,%3Csvg xmlns=%27http://www.w3.org/2000/svg%27 viewBox=%270 0 25 25%27%3E%3C/svg%3E\" width=\"25\" height=\"25\" >')</script> 飛良ひかり：</li></ul>\n",
       "<hr class=\"full_hr\"/>\n",
       "<ul class=\"list1\"><li>21時00分　<noscript class=\"loading-lazy\"><img alt=\"face.jpg\" height=\"25\" loading=\"lazy\" src=\"https://cdn.wikiwiki.jp/to/w/774inc/%E7%80%AC%E5%B3%B6%E3%82%8B%E3%81%84/::ref/face.jpg?rev=51ef1d3d7f84df43c33b99c8db05147c&amp;t=20201010203439\" title=\"face.jpg\" width=\"25\"/></noscript><script data-plugin-ref=\"placeholder\">document.write('<img data-plugin-ref=\"placeholder\" src=\"data:image/svg+xml,%3Csvg xmlns=%27http://www.w3.org/2000/svg%27 viewBox=%270 0 25 25%27%3E%3C/svg%3E\" width=\"25\" height=\"25\" >')</script> 瀬島るい、<noscript class=\"loading-lazy\"><img alt=\"face.jpg\" height=\"25\" loading=\"lazy\" src=\"https://cdn.wikiwiki.jp/to/w/774inc/%E5%A4%A7%E6%B5%A6%E3%82%8B%E3%81%8B%E3%81%93/::ref/face.jpg?rev=97addb96f1a36d6fff433013035d5666&amp;t=20210207204433\" title=\"face.jpg\" width=\"25\"/></noscript><script data-plugin-ref=\"placeholder\">document.write('<img data-plugin-ref=\"placeholder\" src=\"data:image/svg+xml,%3Csvg xmlns=%27http://www.w3.org/2000/svg%27 viewBox=%270 0 25 25%27%3E%3C/svg%3E\" width=\"25\" height=\"25\" >')</script> 大浦るかこ、<noscript class=\"loading-lazy\"><img alt=\"face.jpg\" height=\"25\" loading=\"lazy\" src=\"https://cdn.wikiwiki.jp/to/w/774inc/%E6%B9%96%E5%8D%97%E3%81%BF%E3%81%82/::ref/face.jpg?rev=663cd4f5e85bb518c0cac3e9b29cbf4c&amp;t=20210207204309\" title=\"face.jpg\" width=\"25\"/></noscript><script data-plugin-ref=\"placeholder\">document.write('<img data-plugin-ref=\"placeholder\" src=\"data:image/svg+xml,%3Csvg xmlns=%27http://www.w3.org/2000/svg%27 viewBox=%270 0 25 25%27%3E%3C/svg%3E\" width=\"25\" height=\"25\" >')</script> 湖南みあ：</li>\n",
       "<li>21時00分　<noscript class=\"loading-lazy\"><img alt=\"face.jpg\" height=\"25\" loading=\"lazy\" src=\"https://cdn.wikiwiki.jp/to/w/774inc/%E7%8D%85%E5%AD%90%E7%8E%8B%E3%82%AF%E3%83%AA%E3%82%B9/::ref/face.jpg?rev=cc2c394993d8e7cc1d7e108b992d34ac&amp;t=20200821234400\" title=\"face.jpg\" width=\"25\"/></noscript><script data-plugin-ref=\"placeholder\">document.write('<img data-plugin-ref=\"placeholder\" src=\"data:image/svg+xml,%3Csvg xmlns=%27http://www.w3.org/2000/svg%27 viewBox=%270 0 25 25%27%3E%3C/svg%3E\" width=\"25\" height=\"25\" >')</script> 獅子王クリス：</li>\n",
       "<li>22時00分　<noscript class=\"loading-lazy\"><img alt=\"face.jpg\" height=\"25\" loading=\"lazy\" src=\"https://cdn.wikiwiki.jp/to/w/774inc/%E6%9F%9A%E5%8E%9F%E3%81%84%E3%81%A5%E3%81%BF/::ref/face.jpg?rev=a767f411a255cb3e4251ae07164b54f8&amp;t=20200821214328\" title=\"face.jpg\" width=\"25\"/></noscript><script data-plugin-ref=\"placeholder\">document.write('<img data-plugin-ref=\"placeholder\" src=\"data:image/svg+xml,%3Csvg xmlns=%27http://www.w3.org/2000/svg%27 viewBox=%270 0 25 25%27%3E%3C/svg%3E\" width=\"25\" height=\"25\" >')</script> 柚原いづみ：</li>\n",
       "<li>23時00分　<noscript class=\"loading-lazy\"><img alt=\"face.jpg\" height=\"25\" loading=\"lazy\" src=\"https://cdn.wikiwiki.jp/to/w/774inc/%E5%9B%A0%E5%B9%A1%E3%81%AF%E3%81%AD%E3%82%8B/::ref/face.jpg?rev=470851f43426e372cc1046778893cd3c&amp;t=20200821213817\" title=\"face.jpg\" width=\"25\"/></noscript><script data-plugin-ref=\"placeholder\">document.write('<img data-plugin-ref=\"placeholder\" src=\"data:image/svg+xml,%3Csvg xmlns=%27http://www.w3.org/2000/svg%27 viewBox=%270 0 25 25%27%3E%3C/svg%3E\" width=\"25\" height=\"25\" >')</script> 因幡はねる：</li></ul>\n",
       "</div>"
      ]
     },
     "execution_count": 159,
     "metadata": {},
     "output_type": "execute_result"
    }
   ],
   "source": [
    "soup.select(selector)[0]"
   ]
  },
  {
   "cell_type": "code",
   "execution_count": 156,
   "id": "3f297c49",
   "metadata": {},
   "outputs": [
    {
     "data": {
      "text/plain": [
       "<li>7時00分　<noscript class=\"loading-lazy\"><img alt=\"face.jpg\" height=\"25\" loading=\"lazy\" src=\"https://cdn.wikiwiki.jp/to/w/774inc/%E8%A5%BF%E5%9C%92%E5%AF%BA%E3%83%A1%E3%82%A2%E3%83%AA/::ref/face.jpg?rev=8eb4d37de1b1d36d976fd3162dee5dbd&amp;t=20200822130607\" title=\"face.jpg\" width=\"25\"/></noscript><script data-plugin-ref=\"placeholder\">document.write('<img data-plugin-ref=\"placeholder\" src=\"data:image/svg+xml,%3Csvg xmlns=%27http://www.w3.org/2000/svg%27 viewBox=%270 0 25 25%27%3E%3C/svg%3E\" width=\"25\" height=\"25\" >')</script> 西園寺メアリ：</li>"
      ]
     },
     "execution_count": 156,
     "metadata": {},
     "output_type": "execute_result"
    }
   ],
   "source": [
    "soup.select('div.minicalendar_viewer')[0].select('ul.list1 li')[1]"
   ]
  },
  {
   "cell_type": "code",
   "execution_count": 142,
   "id": "8ae831bf",
   "metadata": {},
   "outputs": [
    {
     "data": {
      "text/plain": [
       "<li>19時00分　<noscript class=\"loading-lazy\"><img alt=\"face.jpg\" height=\"25\" loading=\"lazy\" src=\"https://cdn.wikiwiki.jp/to/w/774inc/%E8%99%8E%E5%9F%8E%E3%82%A2%E3%83%B3%E3%83%8A/::ref/face.jpg?rev=4b14a97263cac1c577852d33b7f7dd84&amp;t=20200821234059\" title=\"face.jpg\" width=\"25\"/></noscript><script data-plugin-ref=\"placeholder\">document.write('<img data-plugin-ref=\"placeholder\" src=\"data:image/svg+xml,%3Csvg xmlns=%27http://www.w3.org/2000/svg%27 viewBox=%270 0 25 25%27%3E%3C/svg%3E\" width=\"25\" height=\"25\" >')</script> 虎城アンナ：</li>"
      ]
     },
     "execution_count": 142,
     "metadata": {},
     "output_type": "execute_result"
    }
   ],
   "source": [
    "lis[2].select('li')[1]"
   ]
  },
  {
   "cell_type": "code",
   "execution_count": 9,
   "id": "40d4a66c",
   "metadata": {},
   "outputs": [
    {
     "data": {
      "text/plain": [
       "[<li>7時00分　<noscript class=\"loading-lazy\"><img alt=\"face.jpg\" height=\"25\" loading=\"lazy\" src=\"https://cdn.wikiwiki.jp/to/w/774inc/%E7%80%AC%E5%B3%B6%E3%82%8B%E3%81%84/::ref/face.jpg?rev=51ef1d3d7f84df43c33b99c8db05147c&amp;t=20201010203439\" title=\"face.jpg\" width=\"25\"/></noscript><script data-plugin-ref=\"placeholder\">document.write('<img data-plugin-ref=\"placeholder\" src=\"data:image/svg+xml,%3Csvg xmlns=%27http://www.w3.org/2000/svg%27 viewBox=%270 0 25 25%27%3E%3C/svg%3E\" width=\"25\" height=\"25\" >')</script> 瀬島るい：</li>,\n",
       " <li>7時00分　<noscript class=\"loading-lazy\"><img alt=\"face.jpg\" height=\"25\" loading=\"lazy\" src=\"https://cdn.wikiwiki.jp/to/w/774inc/%E8%A5%BF%E5%9C%92%E5%AF%BA%E3%83%A1%E3%82%A2%E3%83%AA/::ref/face.jpg?rev=8eb4d37de1b1d36d976fd3162dee5dbd&amp;t=20200822130607\" title=\"face.jpg\" width=\"25\"/></noscript><script data-plugin-ref=\"placeholder\">document.write('<img data-plugin-ref=\"placeholder\" src=\"data:image/svg+xml,%3Csvg xmlns=%27http://www.w3.org/2000/svg%27 viewBox=%270 0 25 25%27%3E%3C/svg%3E\" width=\"25\" height=\"25\" >')</script> 西園寺メアリ：</li>]"
      ]
     },
     "execution_count": 9,
     "metadata": {},
     "output_type": "execute_result"
    }
   ],
   "source": [
    "li.select('ul li')"
   ]
  },
  {
   "cell_type": "code",
   "execution_count": 73,
   "id": "f3701976",
   "metadata": {},
   "outputs": [
    {
     "data": {
      "text/plain": [
       "<ul class=\"list1\"><li>21時00分　<noscript class=\"loading-lazy\"><img alt=\"face.jpg\" height=\"25\" loading=\"lazy\" src=\"https://cdn.wikiwiki.jp/to/w/774inc/%E9%A3%9B%E8%89%AF%E3%81%B2%E3%81%8B%E3%82%8A/::ref/face.jpg?rev=70d28b00b4506992185d47ac9a96daf7&amp;t=20201010203650\" title=\"face.jpg\" width=\"25\"/></noscript><script data-plugin-ref=\"placeholder\">document.write('<img data-plugin-ref=\"placeholder\" src=\"data:image/svg+xml,%3Csvg xmlns=%27http://www.w3.org/2000/svg%27 viewBox=%270 0 25 25%27%3E%3C/svg%3E\" width=\"25\" height=\"25\" >')</script> 飛良ひかり：<a class=\"ext\" href=\"https://youtu.be/-kmlqW9MzUE\" rel=\"nofollow\">【 #ひかチグ 】裏でコッソリのはずが...強引にオーディション開催...！？ずっと打ち明けたかったことが...！ひかりの人見知り旅の行方は・・？【西園チグサ / 飛良ひかり】<img alt=\"\" class=\"ext pukiwiki-open-uri\" data-frame=\"_blank\" data-href=\"https://youtu.be/-kmlqW9MzUE\" src=\"https://cdn.wikiwiki.jp/to/w/common/image/plus/ext.png?v=4\" title=\"\"/></a>\n",
       "<ul class=\"list2\"><li>参加者：<a class=\"ext\" href=\"https://www.youtube.com/channel/UCkngxfPbmGyGl_RIq4FA3MQ\" rel=\"nofollow\">西園チグサ<img alt=\"\" class=\"ext pukiwiki-open-uri\" data-frame=\"_blank\" data-href=\"https://www.youtube.com/channel/UCkngxfPbmGyGl_RIq4FA3MQ\" src=\"https://cdn.wikiwiki.jp/to/w/common/image/plus/ext.png?v=4\" title=\"\"/></a></li></ul></li>\n",
       "<li>21時00分　<noscript class=\"loading-lazy\"><img alt=\"face.jpg\" height=\"25\" loading=\"lazy\" src=\"https://cdn.wikiwiki.jp/to/w/774inc/%E9%BE%8D%E3%83%B6%E5%B4%8E%E3%83%AA%E3%83%B3/::ref/face.jpg?rev=17876c5ffbfb0e51fd6617bff540d55b&amp;t=20200821234014\" title=\"face.jpg\" width=\"25\"/></noscript><script data-plugin-ref=\"placeholder\">document.write('<img data-plugin-ref=\"placeholder\" src=\"data:image/svg+xml,%3Csvg xmlns=%27http://www.w3.org/2000/svg%27 viewBox=%270 0 25 25%27%3E%3C/svg%3E\" width=\"25\" height=\"25\" >')</script> 龍ヶ崎リン：<a class=\"ext\" href=\"https://youtu.be/w-eY_ylu5EM\" rel=\"nofollow\">【飲酒雑談】居酒屋ARNでかく語りき-GUEST：龍ヶ崎リン様-【アルランディス/ホロスターズ】<img alt=\"\" class=\"ext pukiwiki-open-uri\" data-frame=\"_blank\" data-href=\"https://youtu.be/w-eY_ylu5EM\" src=\"https://cdn.wikiwiki.jp/to/w/common/image/plus/ext.png?v=4\" title=\"\"/></a>（アルランディスch）\n",
       "<ul class=\"list2\"><li>参加者：<a class=\"ext\" href=\"https://www.youtube.com/channel/UCKeAhJvy8zgXWbh9duVjIaQ\" rel=\"nofollow\">アルランディス<img alt=\"\" class=\"ext pukiwiki-open-uri\" data-frame=\"_blank\" data-href=\"https://www.youtube.com/channel/UCKeAhJvy8zgXWbh9duVjIaQ\" src=\"https://cdn.wikiwiki.jp/to/w/common/image/plus/ext.png?v=4\" title=\"\"/></a></li></ul></li>\n",
       "<li>22時00分　<noscript class=\"loading-lazy\"><img alt=\"face.jpg\" height=\"25\" loading=\"lazy\" src=\"https://cdn.wikiwiki.jp/to/w/774inc/%E5%A4%A7%E6%B5%A6%E3%82%8B%E3%81%8B%E3%81%93/::ref/face.jpg?rev=97addb96f1a36d6fff433013035d5666&amp;t=20210207204433\" title=\"face.jpg\" width=\"25\"/></noscript><script data-plugin-ref=\"placeholder\">document.write('<img data-plugin-ref=\"placeholder\" src=\"data:image/svg+xml,%3Csvg xmlns=%27http://www.w3.org/2000/svg%27 viewBox=%270 0 25 25%27%3E%3C/svg%3E\" width=\"25\" height=\"25\" >')</script> 大浦るかこ：<a class=\"ext\" href=\"https://youtu.be/Sa2p7DoFUJY\" rel=\"nofollow\">推しの初めてを奪うホラゲー配信【DEVOUR】<img alt=\"\" class=\"ext pukiwiki-open-uri\" data-frame=\"_blank\" data-href=\"https://youtu.be/Sa2p7DoFUJY\" src=\"https://cdn.wikiwiki.jp/to/w/common/image/plus/ext.png?v=4\" title=\"\"/></a>（緋笠トモシカch）\n",
       "<ul class=\"list2\"><li>参加者：<a class=\"ext\" href=\"https://www.youtube.com/channel/UC3vzVK_N_SUVKqbX69L_X4g\" rel=\"nofollow\">緋笠トモシカ<img alt=\"\" class=\"ext pukiwiki-open-uri\" data-frame=\"_blank\" data-href=\"https://www.youtube.com/channel/UC3vzVK_N_SUVKqbX69L_X4g\" src=\"https://cdn.wikiwiki.jp/to/w/common/image/plus/ext.png?v=4\" title=\"\"/></a></li></ul></li>\n",
       "<li>22時00分　<noscript class=\"loading-lazy\"><img alt=\"face.jpg\" height=\"25\" loading=\"lazy\" src=\"https://cdn.wikiwiki.jp/to/w/774inc/%E5%91%A8%E9%98%B2%E3%83%91%E3%83%88%E3%83%A9/::ref/face.jpg?rev=27ee75f4af3677896e53eef0d0821f84&amp;t=20200821223153\" title=\"face.jpg\" width=\"25\"/></noscript><script data-plugin-ref=\"placeholder\">document.write('<img data-plugin-ref=\"placeholder\" src=\"data:image/svg+xml,%3Csvg xmlns=%27http://www.w3.org/2000/svg%27 viewBox=%270 0 25 25%27%3E%3C/svg%3E\" width=\"25\" height=\"25\" >')</script> 周防パトラ：<a class=\"ext\" href=\"https://youtu.be/Iri3LBYkEtM\" rel=\"nofollow\">【Minecraft】774inc.サーバー1周年！誰か一緒にパーティーしよう！We're having a party.【周防パトラ / ハニスト】<img alt=\"\" class=\"ext pukiwiki-open-uri\" data-frame=\"_blank\" data-href=\"https://youtu.be/Iri3LBYkEtM\" src=\"https://cdn.wikiwiki.jp/to/w/common/image/plus/ext.png?v=4\" title=\"\"/></a></li>\n",
       "<li>22時00分　<noscript class=\"loading-lazy\"><img alt=\"face.jpg\" height=\"25\" loading=\"lazy\" src=\"https://cdn.wikiwiki.jp/to/w/774inc/%E5%B0%8F%E6%A3%AE%E3%82%81%E3%81%A8/::ref/face.jpg?rev=75685382538b33fc9ad3cbf168d7483b&amp;t=20200822160915\" title=\"face.jpg\" width=\"25\"/></noscript><script data-plugin-ref=\"placeholder\">document.write('<img data-plugin-ref=\"placeholder\" src=\"data:image/svg+xml,%3Csvg xmlns=%27http://www.w3.org/2000/svg%27 viewBox=%270 0 25 25%27%3E%3C/svg%3E\" width=\"25\" height=\"25\" >')</script> 小森めと：<a class=\"ext\" href=\"https://youtu.be/mEr4hP4g_qU\" rel=\"nofollow\">【桃太郎電鉄】BIG★桃鉄【小森めと / ブイアパ】<img alt=\"\" class=\"ext pukiwiki-open-uri\" data-frame=\"_blank\" data-href=\"https://youtu.be/mEr4hP4g_qU\" src=\"https://cdn.wikiwiki.jp/to/w/common/image/plus/ext.png?v=4\" title=\"\"/></a>\n",
       "<ul class=\"list2\"><li>参加者：<a class=\"ext\" href=\"https://www.youtube.com/channel/UC5LyYg6cCA4yHEYvtUsir3g\" rel=\"nofollow\">一ノ瀬うるは<img alt=\"\" class=\"ext pukiwiki-open-uri\" data-frame=\"_blank\" data-href=\"https://www.youtube.com/channel/UC5LyYg6cCA4yHEYvtUsir3g\" src=\"https://cdn.wikiwiki.jp/to/w/common/image/plus/ext.png?v=4\" title=\"\"/></a>、<a class=\"ext\" href=\"https://www.youtube.com/channel/UCIu-aUArYq_H84dBpCAokMA\" rel=\"nofollow\">白雪レイド<img alt=\"\" class=\"ext pukiwiki-open-uri\" data-frame=\"_blank\" data-href=\"https://www.youtube.com/channel/UCIu-aUArYq_H84dBpCAokMA\" src=\"https://cdn.wikiwiki.jp/to/w/common/image/plus/ext.png?v=4\" title=\"\"/></a>、<a class=\"ext\" href=\"https://www.youtube.com/channel/UCjSeZKF4cMVCsuI9Yk92txg\" rel=\"nofollow\">ゆふな<img alt=\"\" class=\"ext pukiwiki-open-uri\" data-frame=\"_blank\" data-href=\"https://www.youtube.com/channel/UCjSeZKF4cMVCsuI9Yk92txg\" src=\"https://cdn.wikiwiki.jp/to/w/common/image/plus/ext.png?v=4\" title=\"\"/></a></li></ul></li>\n",
       "<li>23時00分　<noscript class=\"loading-lazy\"><img alt=\"face.jpg\" height=\"25\" loading=\"lazy\" src=\"https://cdn.wikiwiki.jp/to/w/774inc/%E5%9B%A0%E5%B9%A1%E3%81%AF%E3%81%AD%E3%82%8B/::ref/face.jpg?rev=470851f43426e372cc1046778893cd3c&amp;t=20200821213817\" title=\"face.jpg\" width=\"25\"/></noscript><script data-plugin-ref=\"placeholder\">document.write('<img data-plugin-ref=\"placeholder\" src=\"data:image/svg+xml,%3Csvg xmlns=%27http://www.w3.org/2000/svg%27 viewBox=%270 0 25 25%27%3E%3C/svg%3E\" width=\"25\" height=\"25\" >')</script> 因幡はねる：<a class=\"ext\" href=\"https://youtu.be/tcyxxezOAO8\" rel=\"nofollow\">【#はねるアンチ王】この中から因幡はねる公式アンチを決めるクイズ番組/ガッチマン/でびでび・でびる/神楽めあ/夕刻ロベル【因幡はねる / あにまーれ】<img alt=\"\" class=\"ext pukiwiki-open-uri\" data-frame=\"_blank\" data-href=\"https://youtu.be/tcyxxezOAO8\" src=\"https://cdn.wikiwiki.jp/to/w/common/image/plus/ext.png?v=4\" title=\"\"/></a>\n",
       "<ul class=\"list2\"><li>参加者：<a class=\"ext\" href=\"https://www.youtube.com/channel/UCWCc8tO-uUl_7SJXIKJACMw\" rel=\"nofollow\">神楽めあ<img alt=\"\" class=\"ext pukiwiki-open-uri\" data-frame=\"_blank\" data-href=\"https://www.youtube.com/channel/UCWCc8tO-uUl_7SJXIKJACMw\" src=\"https://cdn.wikiwiki.jp/to/w/common/image/plus/ext.png?v=4\" title=\"\"/></a>、<a class=\"ext\" href=\"https://www.youtube.com/user/Gatchman666\" rel=\"nofollow\">ガッチマン<img alt=\"\" class=\"ext pukiwiki-open-uri\" data-frame=\"_blank\" data-href=\"https://www.youtube.com/user/Gatchman666\" src=\"https://cdn.wikiwiki.jp/to/w/common/image/plus/ext.png?v=4\" title=\"\"/></a>、<a class=\"ext\" href=\"https://www.youtube.com/channel/UCjlmCrq4TP1I4xguOtJ-31w\" rel=\"nofollow\">でびでび・でびる<img alt=\"\" class=\"ext pukiwiki-open-uri\" data-frame=\"_blank\" data-href=\"https://www.youtube.com/channel/UCjlmCrq4TP1I4xguOtJ-31w\" src=\"https://cdn.wikiwiki.jp/to/w/common/image/plus/ext.png?v=4\" title=\"\"/></a>、<a class=\"ext\" href=\"https://www.youtube.com/channel/UCANDOlYTJT7N5jlRC3zfzVA\" rel=\"nofollow\">夕刻ロベル<img alt=\"\" class=\"ext pukiwiki-open-uri\" data-frame=\"_blank\" data-href=\"https://www.youtube.com/channel/UCANDOlYTJT7N5jlRC3zfzVA\" src=\"https://cdn.wikiwiki.jp/to/w/common/image/plus/ext.png?v=4\" title=\"\"/></a></li></ul></li>\n",
       "<li>23時00分　<noscript class=\"loading-lazy\"><img alt=\"face.jpg\" height=\"25\" loading=\"lazy\" src=\"https://cdn.wikiwiki.jp/to/w/774inc/%E5%B3%B6%E6%9D%91%E3%82%B7%E3%83%A3%E3%83%AB%E3%83%AD%E3%83%83%E3%83%88/::ref/face.jpg?rev=a9590d4fa504c9c33b3fb8173f024140&amp;t=20200821223805\" title=\"face.jpg\" width=\"25\"/></noscript><script data-plugin-ref=\"placeholder\">document.write('<img data-plugin-ref=\"placeholder\" src=\"data:image/svg+xml,%3Csvg xmlns=%27http://www.w3.org/2000/svg%27 viewBox=%270 0 25 25%27%3E%3C/svg%3E\" width=\"25\" height=\"25\" >')</script> 島村シャルロット：<a class=\"ext\" href=\"https://youtu.be/J62IPCnzIBg\" rel=\"nofollow\">【Minecraft】１１人目の銅像作成！！新人を作ります！　シャルクラ＃269【島村シャルロット / ハニスト】<img alt=\"\" class=\"ext pukiwiki-open-uri\" data-frame=\"_blank\" data-href=\"https://youtu.be/J62IPCnzIBg\" src=\"https://cdn.wikiwiki.jp/to/w/common/image/plus/ext.png?v=4\" title=\"\"/></a></li>\n",
       "<li>23時00分　<noscript class=\"loading-lazy\"><img alt=\"face.jpg\" height=\"25\" loading=\"lazy\" src=\"https://cdn.wikiwiki.jp/to/w/774inc/%E8%99%8E%E5%9F%8E%E3%82%A2%E3%83%B3%E3%83%8A/::ref/face.jpg?rev=4b14a97263cac1c577852d33b7f7dd84&amp;t=20200821234059\" title=\"face.jpg\" width=\"25\"/></noscript><script data-plugin-ref=\"placeholder\">document.write('<img data-plugin-ref=\"placeholder\" src=\"data:image/svg+xml,%3Csvg xmlns=%27http://www.w3.org/2000/svg%27 viewBox=%270 0 25 25%27%3E%3C/svg%3E\" width=\"25\" height=\"25\" >')</script> 虎城アンナ：<a class=\"ext\" href=\"https://youtu.be/Ol1xsMOl8tM\" rel=\"nofollow\">【逆転裁判123】ぶりっこは何歳までなら許せますか？【虎城アンナ / シュガリリ】【ネタバレあり】<img alt=\"\" class=\"ext pukiwiki-open-uri\" data-frame=\"_blank\" data-href=\"https://youtu.be/Ol1xsMOl8tM\" src=\"https://cdn.wikiwiki.jp/to/w/common/image/plus/ext.png?v=4\" title=\"\"/></a></li></ul>"
      ]
     },
     "execution_count": 73,
     "metadata": {},
     "output_type": "execute_result"
    }
   ],
   "source": [
    "soup.select(selector)[0].select('ul.list1')[3]"
   ]
  },
  {
   "cell_type": "code",
   "execution_count": 38,
   "id": "a193413a",
   "metadata": {},
   "outputs": [
    {
     "data": {
      "text/plain": [
       "<a class=\"ext\" href=\"https://youtu.be/Ol1xsMOl8tM\" rel=\"nofollow\">【逆転裁判123】ぶりっこは何歳までなら許せますか？【虎城アンナ / シュガリリ】【ネタバレあり】<img alt=\"\" class=\"ext pukiwiki-open-uri\" data-frame=\"_blank\" data-href=\"https://youtu.be/Ol1xsMOl8tM\" src=\"https://cdn.wikiwiki.jp/to/w/common/image/plus/ext.png?v=4\" title=\"\"/></a>"
      ]
     },
     "execution_count": 38,
     "metadata": {},
     "output_type": "execute_result"
    }
   ],
   "source": [
    "li.select('a')[0]"
   ]
  },
  {
   "cell_type": "code",
   "execution_count": 41,
   "id": "a98c6bdc",
   "metadata": {},
   "outputs": [],
   "source": []
  },
  {
   "cell_type": "code",
   "execution_count": 42,
   "id": "77700834",
   "metadata": {},
   "outputs": [
    {
     "data": {
      "text/plain": [
       "('23時00分',\n",
       " '虎城アンナ',\n",
       " '【逆転裁判123】ぶりっこは何歳までなら許せますか？【虎城アンナ / シュガリリ】【ネタバレあり】',\n",
       " 'https://youtu.be/Ol1xsMOl8tM')"
      ]
     },
     "execution_count": 42,
     "metadata": {},
     "output_type": "execute_result"
    }
   ],
   "source": [
    "time, member, title, url"
   ]
  }
 ],
 "metadata": {
  "kernelspec": {
   "display_name": "Python 3",
   "language": "python",
   "name": "python3"
  },
  "language_info": {
   "codemirror_mode": {
    "name": "ipython",
    "version": 3
   },
   "file_extension": ".py",
   "mimetype": "text/x-python",
   "name": "python",
   "nbconvert_exporter": "python",
   "pygments_lexer": "ipython3",
   "version": "3.7.10"
  }
 },
 "nbformat": 4,
 "nbformat_minor": 5
}
